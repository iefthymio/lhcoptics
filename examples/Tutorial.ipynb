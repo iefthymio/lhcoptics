{
 "cells": [
  {
   "cell_type": "markdown",
   "id": "4a14bf21",
   "metadata": {},
   "source": [
    "Main classes:\n",
    "- `LHC`: Access optics repositories and models\n",
    "- `LHCOptics`: Contains an optics: strengths, parameters, knobs, sections, reference to models and main methods\n",
    "- `LHCIR1`,...,`LHCIR1`,`LHCArc`: Contains specific strengths, parameters, knobs that can be associated to a section\n",
    "- `LHCXsuiteModel`: Contain an Xsuite model and tools to extract or load optics\n",
    "- `LHCMadxModel`: Contain a Madx model and tools to extract or load optics, useful for loading existing optics and testing new optics\n",
    "- `LHCCircuitModel`: Contain a model of LHC circuits: transfer functions, current limits, circuit parameters used in matching\n",
    "- `LHCApertureModel`: Contain a model of the LHC apertures.\n",
    "\n",
    "Code is available in https://github.com/rdemaria/lhcoptics and package can be installed using `pip install lhcoptics`, beware of sharp corners!"
   ]
  },
  {
   "cell_type": "code",
   "execution_count": 1,
   "id": "596e7293",
   "metadata": {},
   "outputs": [],
   "source": [
    "from lhcoptics import LHCOptics"
   ]
  },
  {
   "cell_type": "code",
   "execution_count": 2,
   "id": "b805e6d5",
   "metadata": {},
   "outputs": [],
   "source": [
    "#LHCOptics contains params, knobs and sections\n",
    "\n",
    "opt=LHCOptics.from_json(\"ramp/ramp_0.json\")"
   ]
  },
  {
   "cell_type": "code",
   "execution_count": null,
   "id": "cfb7eadc",
   "metadata": {},
   "outputs": [],
   "source": [
    "opt"
   ]
  },
  {
   "cell_type": "code",
   "execution_count": null,
   "id": "da440477",
   "metadata": {},
   "outputs": [],
   "source": [
    "opt.params"
   ]
  },
  {
   "cell_type": "code",
   "execution_count": null,
   "id": "ee3c8272",
   "metadata": {},
   "outputs": [],
   "source": [
    "opt.knobs"
   ]
  },
  {
   "cell_type": "code",
   "execution_count": null,
   "id": "6ad5dc72",
   "metadata": {},
   "outputs": [],
   "source": [
    "# Straight sections\n",
    "opt.irs"
   ]
  },
  {
   "cell_type": "code",
   "execution_count": null,
   "id": "a68069fa",
   "metadata": {},
   "outputs": [],
   "source": [
    "opt.arcs"
   ]
  },
  {
   "cell_type": "code",
   "execution_count": null,
   "id": "bb284bea",
   "metadata": {},
   "outputs": [],
   "source": [
    "#section contains params, knobs, strengths \n",
    "opt.ir1"
   ]
  },
  {
   "cell_type": "code",
   "execution_count": null,
   "id": "3c709a8c",
   "metadata": {},
   "outputs": [],
   "source": [
    "opt.ir1.params"
   ]
  },
  {
   "cell_type": "code",
   "execution_count": null,
   "id": "2a78d6c9",
   "metadata": {},
   "outputs": [],
   "source": [
    "opt.ir1.knobs"
   ]
  },
  {
   "cell_type": "code",
   "execution_count": null,
   "id": "6feee52b",
   "metadata": {},
   "outputs": [],
   "source": [
    "opt.ir1.strengths"
   ]
  },
  {
   "cell_type": "code",
   "execution_count": null,
   "id": "db41d30b",
   "metadata": {},
   "outputs": [],
   "source": [
    "opt.ir6.params"
   ]
  },
  {
   "cell_type": "code",
   "execution_count": null,
   "id": "bd2a37a7",
   "metadata": {},
   "outputs": [],
   "source": [
    "opt.a12"
   ]
  },
  {
   "cell_type": "code",
   "execution_count": null,
   "id": "d43f1d49",
   "metadata": {},
   "outputs": [],
   "source": [
    "opt.a12.params"
   ]
  },
  {
   "cell_type": "code",
   "execution_count": null,
   "id": "9ceff3df",
   "metadata": {},
   "outputs": [],
   "source": [
    "opt.a12.strengths"
   ]
  },
  {
   "cell_type": "code",
   "execution_count": 3,
   "id": "04e373ad",
   "metadata": {},
   "outputs": [
    {
     "data": {
      "application/vnd.jupyter.widget-view+json": {
       "model_id": "573345a7f9cf49d7a59cb6fd253da47b",
       "version_major": 2,
       "version_minor": 0
      },
      "text/plain": [
       "Loading line from dict:   0%|          | 0/28953 [00:00<?, ?it/s]"
      ]
     },
     "metadata": {},
     "output_type": "display_data"
    },
    {
     "name": "stdout",
     "output_type": "stream",
     "text": [
      "Done loading line from dict.           \n"
     ]
    },
    {
     "data": {
      "text/plain": [
       "<LHCOptics 'inj'>"
      ]
     },
     "execution_count": 3,
     "metadata": {},
     "output_type": "execute_result"
    }
   ],
   "source": [
    "opt.set_xsuite_model(\"acc-models-lhc/xsuite/lhc.json\")"
   ]
  },
  {
   "cell_type": "code",
   "execution_count": 4,
   "id": "a66448fe",
   "metadata": {},
   "outputs": [],
   "source": [
    "tw1,tw2=opt.twiss()"
   ]
  },
  {
   "cell_type": "code",
   "execution_count": null,
   "id": "68dc8115",
   "metadata": {},
   "outputs": [],
   "source": []
  },
  {
   "cell_type": "code",
   "execution_count": null,
   "id": "21997b9d",
   "metadata": {},
   "outputs": [],
   "source": [
    "opt.plot()"
   ]
  },
  {
   "cell_type": "code",
   "execution_count": null,
   "id": "eb7a98c0",
   "metadata": {},
   "outputs": [],
   "source": [
    "opt.ir1.knobs"
   ]
  },
  {
   "cell_type": "code",
   "execution_count": null,
   "id": "5124e141",
   "metadata": {},
   "outputs": [],
   "source": [
    "opt.ir1.knobs[\"on_x1_v\"]"
   ]
  },
  {
   "cell_type": "code",
   "execution_count": null,
   "id": "c8b28435",
   "metadata": {},
   "outputs": [],
   "source": [
    "opt.ir1.knobs[\"on_x1_v\"].plot(value=-170)"
   ]
  },
  {
   "cell_type": "code",
   "execution_count": null,
   "id": "11ee4be2",
   "metadata": {},
   "outputs": [],
   "source": [
    "for knob in opt.find_knobs(\"d\"):\n",
    "    print(knob.name,knob)"
   ]
  },
  {
   "cell_type": "code",
   "execution_count": null,
   "id": "a6570cb9",
   "metadata": {},
   "outputs": [],
   "source": [
    "#Xsuite lines\n",
    "tw1=opt.model.b1.twiss()\n",
    "tw2=opt.model.b2.twiss()"
   ]
  },
  {
   "cell_type": "code",
   "execution_count": null,
   "id": "fe5f9730",
   "metadata": {},
   "outputs": [],
   "source": [
    "knob=opt.ir1.knobs[\"on_x1_h\"]"
   ]
  },
  {
   "cell_type": "code",
   "execution_count": null,
   "id": "2eea5410",
   "metadata": {},
   "outputs": [],
   "source": [
    "opt.ir1.plot(method=\"init\")"
   ]
  },
  {
   "cell_type": "code",
   "execution_count": null,
   "id": "8a8882fb",
   "metadata": {},
   "outputs": [],
   "source": [
    "(opt.ir1.arc_left, opt.ir1.arc_right)"
   ]
  },
  {
   "cell_type": "code",
   "execution_count": null,
   "id": "240c8029",
   "metadata": {},
   "outputs": [],
   "source": [
    "opt.ir1.start,opt.ir1.end"
   ]
  },
  {
   "cell_type": "code",
   "execution_count": null,
   "id": "d4b5f7a9",
   "metadata": {},
   "outputs": [],
   "source": [
    "opt.ir1.init_left,opt.ir1.init_right"
   ]
  },
  {
   "cell_type": "code",
   "execution_count": null,
   "id": "40d95b13",
   "metadata": {},
   "outputs": [],
   "source": [
    "knob"
   ]
  },
  {
   "cell_type": "code",
   "execution_count": null,
   "id": "66f5b473",
   "metadata": {},
   "outputs": [],
   "source": [
    "knob=opt.ir1.knobs[\"on_x1_h\"]"
   ]
  },
  {
   "cell_type": "code",
   "execution_count": null,
   "id": "bb461e5a",
   "metadata": {},
   "outputs": [],
   "source": [
    "opt.plot(yl=\"x y\")"
   ]
  },
  {
   "cell_type": "code",
   "execution_count": null,
   "id": "90471b5c",
   "metadata": {},
   "outputs": [],
   "source": [
    "opt.model[\"on_x1_h\"]=170\n",
    "opt.model[\"on_x5_h\"]=170"
   ]
  },
  {
   "cell_type": "code",
   "execution_count": null,
   "id": "084a50f7",
   "metadata": {},
   "outputs": [],
   "source": [
    "opt.plot(yl=\"x y\")"
   ]
  },
  {
   "cell_type": "code",
   "execution_count": null,
   "id": "4bf4c75a",
   "metadata": {},
   "outputs": [],
   "source": [
    "# transfer optics data into the model\n",
    "opt.update_model()"
   ]
  },
  {
   "cell_type": "code",
   "execution_count": null,
   "id": "7d9034c2",
   "metadata": {},
   "outputs": [],
   "source": [
    "opt.plot(yl=\"x y\")"
   ]
  },
  {
   "cell_type": "code",
   "execution_count": null,
   "id": "6b93dcc0",
   "metadata": {},
   "outputs": [],
   "source": [
    "opt.ir8.params"
   ]
  },
  {
   "cell_type": "code",
   "execution_count": null,
   "id": "f877e4ae",
   "metadata": {},
   "outputs": [],
   "source": [
    "opt.ir8.match?"
   ]
  },
  {
   "cell_type": "code",
   "execution_count": 8,
   "id": "37a63e95",
   "metadata": {},
   "outputs": [
    {
     "data": {
      "text/plain": [
       "<LHCOptics 'inj'>"
      ]
     },
     "execution_count": 8,
     "metadata": {},
     "output_type": "execute_result"
    }
   ],
   "source": [
    "opt.set_circuits(\"data/lhccircuits.json\")"
   ]
  },
  {
   "cell_type": "code",
   "execution_count": null,
   "id": "d3fb9cf4",
   "metadata": {},
   "outputs": [],
   "source": [
    "opt.circuits"
   ]
  },
  {
   "cell_type": "code",
   "execution_count": 9,
   "id": "ee9795b5",
   "metadata": {},
   "outputs": [
    {
     "name": "stdout",
     "output_type": "stream",
     "text": [
      "Target status:               alty = 2.2906e-08              \n",
      "id state tag       tol_met       residue   current_val    target_val description                                 \n",
      "0  ON    muxip8b1     True   -2.0024e-12          3.02          3.02 line=b1, ('mux', 'e.ds.r8.b1'), val=3.02 ...\n",
      "1  ON    muxip8b2     True   2.25686e-12          3.02          3.02 line=b2, ('mux', 'e.ds.r8.b2'), val=3.02 ...\n",
      "2  ON    muyip8b1     True   2.13163e-14           2.8           2.8 line=b1, ('muy', 'e.ds.r8.b1'), val=2.8, ...\n",
      "3  ON    muyip8b2     True   8.43769e-15           2.8           2.8 line=b2, ('muy', 'e.ds.r8.b2'), val=2.8, ...\n",
      "4  ON    e_alfxb1     True   5.19325e-11     -0.546632     -0.546632 line=b1, ('alfx', 'e.ds.r8.b1'), val=-0. ...\n",
      "5  ON    e_alfyb1     True   6.54587e-13       2.30561       2.30561 line=b1, ('alfy', 'e.ds.r8.b1'), val=2.3 ...\n",
      "6  ON    e_betxb1     True  -2.10245e-09       33.9177       33.9177 line=b1, ('betx', 'e.ds.r8.b1'), val=33. ...\n",
      "7  ON    e_betyb1     True     4.718e-11        166.89        166.89 line=b1, ('bety', 'e.ds.r8.b1'), val=166 ...\n",
      "8  ON    e_dxb1       True   7.56437e-11       1.09782       1.09782 line=b1, ('dx', 'e.ds.r8.b1'), val=1.097 ...\n",
      "9  ON    e_dpxb1      True   1.60847e-11     0.0144423     0.0144423 line=b1, ('dpx', 'e.ds.r8.b1'), val=0.01 ...\n",
      "10 ON    e_alfxb2     True  -3.53091e-11       2.33551       2.33551 line=b2, ('alfx', 'e.ds.r8.b2'), val=2.3 ...\n",
      "11 ON    e_alfyb2     True  -1.92069e-14      -0.56225      -0.56225 line=b2, ('alfy', 'e.ds.r8.b2'), val=-0. ...\n",
      "12 ON    e_betxb2     True  -5.26651e-09       169.252       169.252 line=b2, ('betx', 'e.ds.r8.b2'), val=169 ...\n",
      "13 ON    e_betyb2     True  -1.06581e-12       34.1231       34.1231 line=b2, ('bety', 'e.ds.r8.b2'), val=34. ...\n",
      "14 ON    e_dxb2       True    2.1759e-09       2.13206       2.13206 line=b2, ('dx', 'e.ds.r8.b2'), val=2.132 ...\n",
      "15 ON    e_dpxb2      True  -3.12966e-11    -0.0296433    -0.0296433 line=b2, ('dpx', 'e.ds.r8.b2'), val=-0.0 ...\n",
      "16 ON    ip_betxb1    True    2.3055e-10            10            10 line=b1, ('betx', 'ip8'), val=10, tol=5e ...\n",
      "17 ON    ip_betxb2    True   5.12403e-10            10            10 line=b2, ('betx', 'ip8'), val=10, tol=5e ...\n",
      "18 ON    ip_betyb1    True   5.57776e-13            10            10 line=b1, ('bety', 'ip8'), val=10, tol=5e ...\n",
      "19 ON    ip_betyb2    True  -5.71987e-13            10            10 line=b2, ('bety', 'ip8'), val=10, tol=5e ...\n",
      "20 ON    ip_alfxb1    True   1.17109e-10   1.17109e-10             0 line=b1, ('alfx', 'ip8'), val=0, tol=5e- ...\n",
      "21 ON    ip_alfxb2    True   8.80861e-11   8.80861e-11             0 line=b2, ('alfx', 'ip8'), val=0, tol=5e- ...\n",
      "22 ON    ip_alfyb1    True  -2.00103e-14  -2.00103e-14            -0 line=b1, ('alfy', 'ip8'), val=-0, tol=5e ...\n",
      "23 ON    ip_alfyb2    True  -1.93897e-14  -1.93897e-14            -0 line=b2, ('alfy', 'ip8'), val=-0, tol=5e ...\n",
      "24 ON    ip_dxb1      True   -1.0713e-10   -1.0713e-10            -0 line=b1, ('dx', 'ip8'), val=-0, tol=5e-0 ...\n",
      "25 ON    ip_dxb2      True   -1.0353e-10   -1.0353e-10             0 line=b2, ('dx', 'ip8'), val=0, tol=5e-08 ...\n",
      "26 ON    ip_dpxb1     True  -1.56707e-12  -1.56707e-12            -0 line=b1, ('dpx', 'ip8'), val=-0, tol=5e- ...\n",
      "27 ON    ip_dpxb2     True  -1.01084e-11  -1.01084e-11             0 line=b2, ('dpx', 'ip8'), val=0, tol=5e-0 ...\n",
      "Vary status:                 \n",
      "id state tag    met name          lower_limit   current_val   upper_limit val_at_iter_0          step        weight\n",
      "0  OFF   common OK  kqx.l8                  0    0.00950982      0.135206    0.00950982         1e-09             1\n",
      "1  ON    common OK  kqx.r8          -0.135206   -0.00950982             0   -0.00950982         1e-09             1\n",
      "2  OFF   common OK  ktqx1.l8       -0.0131909            -0     0.0131909            -0         1e-09             1\n",
      "3  ON    common OK  ktqx1.r8       -0.0131909             0     0.0131909             0         1e-09             1\n",
      "4  OFF   common OK  ktqx2.l8       -0.0131909            -0     0.0131909            -0         1e-09             1\n",
      "5  ON    common OK  ktqx2.r8       -0.0131909             0     0.0131909             0         1e-09             1\n",
      "6  ON    b1     OK  kq4.l8b1        -0.105994   -0.00444104   -0.00241021   -0.00444104         1e-09             1\n",
      "7  ON    b2     OK  kq4.l8b2       0.00241216    0.00449559       0.10608    0.00449559         1e-09             1\n",
      "8  ON    b1     OK  kq4.r8b1       0.00241376    0.00519488      0.106151    0.00519488         1e-09             1\n",
      "9  ON    b2     OK  kq4.r8b2        -0.106196   -0.00447369   -0.00241479   -0.00447369         1e-09             1\n",
      "10 ON    b1     OK  kq5.l8b1       0.00253085    0.00437992       0.10527    0.00437992         1e-09             1\n",
      "11 ON    b2     OK  kq5.l8b2        -0.105261   -0.00538822   -0.00253064   -0.00538822         1e-09             1\n",
      "12 ON    b1     OK  kq5.r8b1        -0.106094   -0.00446667   -0.00241247   -0.00446667         1e-09             1\n",
      "13 ON    b2     OK  kq5.r8b2       0.00241387    0.00425682      0.106156    0.00425682         1e-09             1\n",
      "14 ON    b1     OK  kq6.l8b1        -0.105314   -0.00410432   -0.00253189   -0.00410432         1e-09             1\n",
      "15 ON    b2     OK  kq6.l8b2       0.00253125     0.0044082      0.105287     0.0044082         1e-09             1\n",
      "16 ON    b1     OK  kq6.r8b1       0.00253024    0.00363831      0.105244    0.00363831         1e-09             1\n",
      "17 ON    b2     OK  kq6.r8b2         -0.10535   -0.00352778   -0.00253275   -0.00352778         1e-09             1\n",
      "18 ON    b1     OK  kq7.l8b1       0.00252147    0.00602702      0.132136    0.00602702         1e-09             1\n",
      "19 ON    b2     OK  kq7.l8b2        -0.132232   -0.00651689   -0.00252327   -0.00651689         1e-09             1\n",
      "20 ON    b1     OK  kq7.r8b1        -0.131529   -0.00587191   -0.00252378   -0.00587191         1e-09             1\n",
      "21 ON    b2     OK  kq7.r8b2       0.00252263    0.00573596      0.131468    0.00573596         1e-09             1\n",
      "22 ON    b1     OK  kq8.l8b1        -0.131577   -0.00460329   -0.00252469   -0.00460329         1e-09             1\n",
      "23 ON    b2     OK  kq8.l8b2       0.00252727    0.00600961      0.131713    0.00600961         1e-09             1\n",
      "24 ON    b1     OK  kq8.r8b1        0.0025251    0.00641693      0.131599    0.00641693         1e-09             1\n",
      "25 ON    b2     OK  kq8.r8b2        -0.131528   -0.00476569   -0.00252376   -0.00476569         1e-09             1\n",
      "26 ON    b1     OK  kq9.l8b1       0.00252359    0.00652348      0.131519    0.00652348         1e-09             1\n",
      "27 ON    b2     OK  kq9.l8b2        -0.131336   -0.00545147   -0.00252013   -0.00545147         1e-09             1\n",
      "28 ON    b1     OK  kq9.r8b1         -0.13158   -0.00663563   -0.00252474   -0.00663563         1e-09             1\n",
      "29 ON    b2     OK  kq9.r8b2       0.00252496    0.00682727      0.131591    0.00682727         1e-09             1\n",
      "30 ON    b1     OK  kq10.l8b1       -0.131746   -0.00579201   -0.00252789   -0.00579201         1e-09             1\n",
      "31 ON    b2     OK  kq10.l8b2      0.00252768    0.00717394      0.131735    0.00717394         1e-09             1\n",
      "32 ON    b1     OK  kq10.r8b1      0.00252923    0.00730942      0.131817    0.00730942         1e-09             1\n",
      "33 ON    b2     OK  kq10.r8b2       -0.131751   -0.00619816   -0.00252799   -0.00619816         1e-09             1\n",
      "34 ON    b1     OK  kqtl11.l8b1    -0.0853803   0.000174156     0.0853803   0.000174156         1e-09             1\n",
      "35 ON    b2     OK  kqtl11.l8b2    -0.0853803    0.00132482     0.0853803    0.00132482         1e-09             1\n",
      "36 ON    b1     OK  kqtl11.r8b1    -0.0853803   0.000263953     0.0853803   0.000263953         1e-09             1\n",
      "37 ON    b2     OK  kqtl11.r8b2    -0.0853803   0.000452885     0.0853803   0.000452885         1e-09             1\n",
      "38 ON    b1     OK  kqt12.l8b1     -0.0813119    0.00319404     0.0813119    0.00319404         1e-09             1\n",
      "39 ON    b2     OK  kqt12.l8b2     -0.0813119   -0.00239432     0.0813119   -0.00239432         1e-09             1\n",
      "40 ON    b1     OK  kqt12.r8b1     -0.0813119   -0.00329382     0.0813119   -0.00329382         1e-09             1\n",
      "41 ON    b2     OK  kqt12.r8b2     -0.0813119    0.00277058     0.0813119    0.00277058         1e-09             1\n",
      "42 ON    b1     OK  kqt13.l8b1     -0.0813119   0.000653243     0.0813119   0.000653243         1e-09             1\n",
      "43 ON    b2     OK  kqt13.l8b2     -0.0813119    0.00473915     0.0813119    0.00473915         1e-09             1\n",
      "44 ON    b1     OK  kqt13.r8b1     -0.0813119    -0.0010298     0.0813119    -0.0010298         1e-09             1\n",
      "45 ON    b2     OK  kqt13.r8b2     -0.0813119     0.0030247     0.0813119     0.0030247         1e-09             1\n"
     ]
    }
   ],
   "source": [
    "mtc=opt.ir8.match()"
   ]
  },
  {
   "cell_type": "code",
   "execution_count": null,
   "id": "a09a9641",
   "metadata": {},
   "outputs": [],
   "source": [
    "mtc.solve()"
   ]
  },
  {
   "cell_type": "code",
   "execution_count": null,
   "id": "bbd7db27",
   "metadata": {},
   "outputs": [],
   "source": [
    "opt.ir8.set_betastar(betx=9.5,bety=9.8)\n",
    "opt.ir8.params"
   ]
  },
  {
   "cell_type": "code",
   "execution_count": null,
   "id": "582b0f67",
   "metadata": {},
   "outputs": [],
   "source": [
    "opt.ir8.match().solve()"
   ]
  },
  {
   "cell_type": "code",
   "execution_count": null,
   "id": "f2b509a8",
   "metadata": {},
   "outputs": [],
   "source": [
    "# update strength from the model to the optics\n",
    "opt.ir8.update()"
   ]
  },
  {
   "cell_type": "code",
   "execution_count": null,
   "id": "852f1160",
   "metadata": {},
   "outputs": [],
   "source": [
    "opt2=LHCOptics.from_json(\"ramp/ramp_0.json\")"
   ]
  },
  {
   "cell_type": "code",
   "execution_count": null,
   "id": "33162a21",
   "metadata": {},
   "outputs": [],
   "source": [
    "opt.diff(opt2)"
   ]
  },
  {
   "cell_type": "code",
   "execution_count": null,
   "id": "0d78bfa6",
   "metadata": {},
   "outputs": [],
   "source": [
    "opt.ir8.set_betastar(betx=9,bety=9)\n",
    "mtc=opt.ir8.match()"
   ]
  },
  {
   "cell_type": "code",
   "execution_count": null,
   "id": "14bd343c",
   "metadata": {},
   "outputs": [],
   "source": [
    "mtc.disable(target=\"ip_.*\")\n",
    "mtc.target_status()"
   ]
  },
  {
   "cell_type": "code",
   "execution_count": null,
   "id": "c0d54804",
   "metadata": {},
   "outputs": [],
   "source": [
    "mtc.enable(target=\"ip_.*\")\n",
    "mtc.target_status()"
   ]
  },
  {
   "cell_type": "code",
   "execution_count": null,
   "id": "1498e1fd",
   "metadata": {},
   "outputs": [],
   "source": [
    "mtc.vary_status()"
   ]
  },
  {
   "cell_type": "code",
   "execution_count": null,
   "id": "534ef1a0",
   "metadata": {},
   "outputs": [],
   "source": [
    "mtc=opt.ir8.match()"
   ]
  },
  {
   "cell_type": "code",
   "execution_count": null,
   "id": "ccab15e9",
   "metadata": {},
   "outputs": [],
   "source": [
    "mtc.solve()"
   ]
  },
  {
   "cell_type": "code",
   "execution_count": null,
   "id": "28d51e1a",
   "metadata": {},
   "outputs": [],
   "source": [
    "opt.ir8.plot()"
   ]
  },
  {
   "cell_type": "code",
   "execution_count": null,
   "id": "e8d0fff1",
   "metadata": {},
   "outputs": [],
   "source": [
    "tw1=opt.ir8.twiss(beam=1)"
   ]
  },
  {
   "cell_type": "code",
   "execution_count": null,
   "id": "5c10dc16",
   "metadata": {},
   "outputs": [],
   "source": [
    "tw1.rows[300:500:\"betx\"].cols[\"betx bety\"]"
   ]
  },
  {
   "cell_type": "code",
   "execution_count": null,
   "id": "1de6edb7",
   "metadata": {},
   "outputs": [],
   "source": [
    "mtc=opt.ir8.match(extra_targets={\"mqml.6r8.b1\":\"betx\"})"
   ]
  },
  {
   "cell_type": "code",
   "execution_count": null,
   "id": "823a36d0",
   "metadata": {},
   "outputs": [],
   "source": [
    "mtc.targets[28].value-=10\n",
    "mtc.solve()\n",
    "opt.ir8.plot(beam=1)"
   ]
  },
  {
   "cell_type": "code",
   "execution_count": null,
   "id": "7a71464e",
   "metadata": {},
   "outputs": [],
   "source": [
    "opt3=opt.copy()"
   ]
  },
  {
   "cell_type": "code",
   "execution_count": null,
   "id": "4af02c40",
   "metadata": {},
   "outputs": [],
   "source": [
    "opt.update()"
   ]
  },
  {
   "cell_type": "code",
   "execution_count": null,
   "id": "6b8a169e",
   "metadata": {},
   "outputs": [],
   "source": [
    "opt.diff(opt3)"
   ]
  },
  {
   "cell_type": "code",
   "execution_count": null,
   "id": "ad2f5b91",
   "metadata": {},
   "outputs": [],
   "source": [
    "opt.ir8.get_params()"
   ]
  },
  {
   "cell_type": "code",
   "execution_count": null,
   "id": "d7aea3e3",
   "metadata": {},
   "outputs": [],
   "source": [
    "opt.ir6.get_params()"
   ]
  },
  {
   "cell_type": "code",
   "execution_count": null,
   "id": "a861ca8d",
   "metadata": {},
   "outputs": [],
   "source": [
    "mtc.vary_status()"
   ]
  },
  {
   "cell_type": "code",
   "execution_count": null,
   "id": "b59294a9",
   "metadata": {},
   "outputs": [],
   "source": [
    "opt.ir8.match??"
   ]
  },
  {
   "cell_type": "code",
   "execution_count": null,
   "id": "d5029391",
   "metadata": {},
   "outputs": [],
   "source": [
    "cir=opt.circuits.madname[\"kqtl11.l8b2\"]"
   ]
  },
  {
   "cell_type": "code",
   "execution_count": null,
   "id": "2cba4e88",
   "metadata": {},
   "outputs": [],
   "source": [
    "cir.get_current"
   ]
  },
  {
   "cell_type": "code",
   "execution_count": null,
   "id": "2b600f34",
   "metadata": {},
   "outputs": [],
   "source": [
    "cir.imin"
   ]
  },
  {
   "cell_type": "code",
   "execution_count": null,
   "id": "f5ce6d43",
   "metadata": {},
   "outputs": [],
   "source": [
    "opt.to_madx()"
   ]
  },
  {
   "cell_type": "code",
   "execution_count": null,
   "id": "e948232a",
   "metadata": {},
   "outputs": [],
   "source": [
    "opt.ir8.knobs[\"on_x8h\"].match()"
   ]
  },
  {
   "cell_type": "code",
   "execution_count": null,
   "id": "bd1acde0",
   "metadata": {},
   "outputs": [],
   "source": [
    "knob.match??"
   ]
  },
  {
   "cell_type": "code",
   "execution_count": null,
   "id": "22eee38c",
   "metadata": {},
   "outputs": [],
   "source": [
    "opt.ir8.knobs"
   ]
  },
  {
   "cell_type": "code",
   "execution_count": null,
   "id": "1717a78b",
   "metadata": {},
   "outputs": [],
   "source": [
    "opt.ir8.knobs['on_o8'].weights"
   ]
  },
  {
   "cell_type": "code",
   "execution_count": null,
   "id": "6b6d2ec6",
   "metadata": {},
   "outputs": [],
   "source": [
    "opt.knobs[\"phase_change.b2\"].value"
   ]
  },
  {
   "cell_type": "code",
   "execution_count": null,
   "id": "7fc2fafe",
   "metadata": {},
   "outputs": [],
   "source": [
    "from lhcoptics import Knob\n",
    "opt.knobs[\"ilias\"]=Knob(\"fff\",0,{\"kqx.l1\": 32})"
   ]
  },
  {
   "cell_type": "code",
   "execution_count": null,
   "id": "871d6ea5",
   "metadata": {},
   "outputs": [],
   "source": [
    "opt.knobs[\"ilias\"]"
   ]
  },
  {
   "cell_type": "code",
   "execution_count": null,
   "id": "a17ae625",
   "metadata": {},
   "outputs": [],
   "source": [
    "opt.knobs[\"ilias\"].weights"
   ]
  },
  {
   "cell_type": "code",
   "execution_count": null,
   "id": "f4db8cb0",
   "metadata": {},
   "outputs": [],
   "source": [
    "opt.update_model()"
   ]
  },
  {
   "cell_type": "code",
   "execution_count": null,
   "id": "475c456a",
   "metadata": {},
   "outputs": [],
   "source": [
    "opt.model.vars[\"kqx.l1\"]._info()"
   ]
  },
  {
   "cell_type": "code",
   "execution_count": null,
   "id": "41252908",
   "metadata": {},
   "outputs": [],
   "source": [
    "del opt.knobs[\"ilias\"]"
   ]
  },
  {
   "cell_type": "code",
   "execution_count": null,
   "id": "f9d7faf7",
   "metadata": {},
   "outputs": [],
   "source": [
    "LHCOptics.from_madx?"
   ]
  },
  {
   "cell_type": "code",
   "execution_count": null,
   "id": "adae1a58",
   "metadata": {},
   "outputs": [],
   "source": [
    "from cpymad.madx import Madx"
   ]
  },
  {
   "cell_type": "code",
   "execution_count": null,
   "id": "cbb7a461",
   "metadata": {},
   "outputs": [],
   "source": [
    "madx=Madx()"
   ]
  },
  {
   "cell_type": "code",
   "execution_count": null,
   "id": "0ef74d6f",
   "metadata": {},
   "outputs": [],
   "source": [
    "madx.call(\"acc-models-lhc/scenarios/pp_lumi/RAMP-SQUEEZE-6.8TeV-ATS-2m-2024_V1/0/model.madx\")"
   ]
  },
  {
   "cell_type": "code",
   "execution_count": null,
   "id": "81821d92",
   "metadata": {},
   "outputs": [],
   "source": [
    "madx.use(\"lhcb1\")"
   ]
  },
  {
   "cell_type": "code",
   "execution_count": null,
   "id": "cc1e9b61",
   "metadata": {},
   "outputs": [],
   "source": [
    "madx.twiss()"
   ]
  },
  {
   "cell_type": "code",
   "execution_count": null,
   "id": "ecaa4d90",
   "metadata": {},
   "outputs": [],
   "source": [
    "opt=LHCOptics.from_madx(madx)"
   ]
  },
  {
   "cell_type": "code",
   "execution_count": null,
   "id": "073228d4",
   "metadata": {},
   "outputs": [],
   "source": [
    "opt"
   ]
  },
  {
   "cell_type": "code",
   "execution_count": null,
   "id": "4eddc9da",
   "metadata": {},
   "outputs": [],
   "source": [
    "opt.ir5.knobs"
   ]
  },
  {
   "cell_type": "code",
   "execution_count": null,
   "id": "94ab0ddc",
   "metadata": {},
   "outputs": [],
   "source": [
    "tt=mtc.target_status(pandas=True)"
   ]
  },
  {
   "cell_type": "code",
   "execution_count": null,
   "id": "47541e93",
   "metadata": {},
   "outputs": [],
   "source": [
    "tt.to_pandas()"
   ]
  },
  {
   "cell_type": "code",
   "execution_count": null,
   "id": "eb4114ef",
   "metadata": {},
   "outputs": [],
   "source": [
    "import xdeps"
   ]
  },
  {
   "cell_type": "code",
   "execution_count": null,
   "id": "9327e37f",
   "metadata": {},
   "outputs": [],
   "source": [
    "xdeps.table.set_show_pandas(True)"
   ]
  },
  {
   "cell_type": "code",
   "execution_count": 11,
   "id": "281ab772",
   "metadata": {},
   "outputs": [
    {
     "name": "stdout",
     "output_type": "stream",
     "text": [
      "Target status:               alty = 2.2906e-08              \n",
      "id state tag       tol_met       residue   current_val    target_val description                                 \n",
      "0  ON    muxip8b1     True   -2.0024e-12          3.02          3.02 line=b1, ('mux', 'e.ds.r8.b1'), val=3.02 ...\n",
      "1  ON    muxip8b2     True   2.25686e-12          3.02          3.02 line=b2, ('mux', 'e.ds.r8.b2'), val=3.02 ...\n",
      "2  ON    muyip8b1     True   2.13163e-14           2.8           2.8 line=b1, ('muy', 'e.ds.r8.b1'), val=2.8, ...\n",
      "3  ON    muyip8b2     True   8.43769e-15           2.8           2.8 line=b2, ('muy', 'e.ds.r8.b2'), val=2.8, ...\n",
      "4  ON    e_alfxb1     True   5.19325e-11     -0.546632     -0.546632 line=b1, ('alfx', 'e.ds.r8.b1'), val=-0. ...\n",
      "5  ON    e_alfyb1     True   6.54587e-13       2.30561       2.30561 line=b1, ('alfy', 'e.ds.r8.b1'), val=2.3 ...\n",
      "6  ON    e_betxb1     True  -2.10245e-09       33.9177       33.9177 line=b1, ('betx', 'e.ds.r8.b1'), val=33. ...\n",
      "7  ON    e_betyb1     True     4.718e-11        166.89        166.89 line=b1, ('bety', 'e.ds.r8.b1'), val=166 ...\n",
      "8  ON    e_dxb1       True   7.56437e-11       1.09782       1.09782 line=b1, ('dx', 'e.ds.r8.b1'), val=1.097 ...\n",
      "9  ON    e_dpxb1      True   1.60847e-11     0.0144423     0.0144423 line=b1, ('dpx', 'e.ds.r8.b1'), val=0.01 ...\n",
      "10 ON    e_alfxb2     True  -3.53091e-11       2.33551       2.33551 line=b2, ('alfx', 'e.ds.r8.b2'), val=2.3 ...\n",
      "11 ON    e_alfyb2     True  -1.92069e-14      -0.56225      -0.56225 line=b2, ('alfy', 'e.ds.r8.b2'), val=-0. ...\n",
      "12 ON    e_betxb2     True  -5.26651e-09       169.252       169.252 line=b2, ('betx', 'e.ds.r8.b2'), val=169 ...\n",
      "13 ON    e_betyb2     True  -1.06581e-12       34.1231       34.1231 line=b2, ('bety', 'e.ds.r8.b2'), val=34. ...\n",
      "14 ON    e_dxb2       True    2.1759e-09       2.13206       2.13206 line=b2, ('dx', 'e.ds.r8.b2'), val=2.132 ...\n",
      "15 ON    e_dpxb2      True  -3.12966e-11    -0.0296433    -0.0296433 line=b2, ('dpx', 'e.ds.r8.b2'), val=-0.0 ...\n",
      "16 ON    ip_betxb1    True    2.3055e-10            10            10 line=b1, ('betx', 'ip8'), val=10, tol=5e ...\n",
      "17 ON    ip_betxb2    True   5.12403e-10            10            10 line=b2, ('betx', 'ip8'), val=10, tol=5e ...\n",
      "18 ON    ip_betyb1    True   5.57776e-13            10            10 line=b1, ('bety', 'ip8'), val=10, tol=5e ...\n",
      "19 ON    ip_betyb2    True  -5.71987e-13            10            10 line=b2, ('bety', 'ip8'), val=10, tol=5e ...\n",
      "20 ON    ip_alfxb1    True   1.17109e-10   1.17109e-10             0 line=b1, ('alfx', 'ip8'), val=0, tol=5e- ...\n",
      "21 ON    ip_alfxb2    True   8.80861e-11   8.80861e-11             0 line=b2, ('alfx', 'ip8'), val=0, tol=5e- ...\n",
      "22 ON    ip_alfyb1    True  -2.00103e-14  -2.00103e-14            -0 line=b1, ('alfy', 'ip8'), val=-0, tol=5e ...\n",
      "23 ON    ip_alfyb2    True  -1.93897e-14  -1.93897e-14            -0 line=b2, ('alfy', 'ip8'), val=-0, tol=5e ...\n",
      "24 ON    ip_dxb1      True   -1.0713e-10   -1.0713e-10            -0 line=b1, ('dx', 'ip8'), val=-0, tol=5e-0 ...\n",
      "25 ON    ip_dxb2      True   -1.0353e-10   -1.0353e-10             0 line=b2, ('dx', 'ip8'), val=0, tol=5e-08 ...\n",
      "26 ON    ip_dpxb1     True  -1.56707e-12  -1.56707e-12            -0 line=b1, ('dpx', 'ip8'), val=-0, tol=5e- ...\n",
      "27 ON    ip_dpxb2     True  -1.01084e-11  -1.01084e-11             0 line=b2, ('dpx', 'ip8'), val=0, tol=5e-0 ...\n"
     ]
    }
   ],
   "source": [
    "mtc.target_status()"
   ]
  },
  {
   "cell_type": "code",
   "execution_count": 18,
   "id": "04ac517a",
   "metadata": {},
   "outputs": [
    {
     "name": "stdout",
     "output_type": "stream",
     "text": [
      "Vary status:                 \n",
      "id state tag    met name          lower_limit   current_val   upper_limit val_at_iter_0          step        weight\n",
      "0  OFF   common OK  kqx.l8                  0    0.00950982      0.135206    0.00950982         1e-09             1\n",
      "1  ON    common OK  kqx.r8          -0.135206   -0.00950982             0   -0.00950982         1e-09             1\n",
      "2  OFF   common OK  ktqx1.l8       -0.0131909            -0     0.0131909            -0         1e-09             1\n",
      "3  ON    common OK  ktqx1.r8       -0.0131909             0     0.0131909             0         1e-09             1\n",
      "4  OFF   common OK  ktqx2.l8       -0.0131909            -0     0.0131909            -0         1e-09             1\n",
      "5  ON    common OK  ktqx2.r8       -0.0131909             0     0.0131909             0         1e-09             1\n",
      "6  ON    b1     OK  kq4.l8b1        -0.105994   -0.00444104   -0.00241021   -0.00444104         1e-09             1\n",
      "7  ON    b2     OK  kq4.l8b2       0.00241216    0.00449559       0.10608    0.00449559         1e-09             1\n",
      "8  ON    b1     OK  kq4.r8b1       0.00241376    0.00519488      0.106151    0.00519488         1e-09             1\n",
      "9  ON    b2     OK  kq4.r8b2        -0.106196   -0.00447369   -0.00241479   -0.00447369         1e-09             1\n",
      "10 ON    b1     OK  kq5.l8b1       0.00253085    0.00437992       0.10527    0.00437992         1e-09             1\n",
      "11 ON    b2     OK  kq5.l8b2        -0.105261   -0.00538822   -0.00253064   -0.00538822         1e-09             1\n",
      "12 ON    b1     OK  kq5.r8b1        -0.106094   -0.00446667   -0.00241247   -0.00446667         1e-09             1\n",
      "13 ON    b2     OK  kq5.r8b2       0.00241387    0.00425682      0.106156    0.00425682         1e-09             1\n",
      "14 ON    b1     OK  kq6.l8b1        -0.105314   -0.00410432   -0.00253189   -0.00410432         1e-09             1\n",
      "15 ON    b2     OK  kq6.l8b2       0.00253125     0.0044082      0.105287     0.0044082         1e-09             1\n",
      "16 ON    b1     OK  kq6.r8b1       0.00253024    0.00363831      0.105244    0.00363831         1e-09             1\n",
      "17 ON    b2     OK  kq6.r8b2         -0.10535   -0.00352778   -0.00253275   -0.00352778         1e-09             1\n",
      "18 ON    b1     OK  kq7.l8b1       0.00252147    0.00602702      0.132136    0.00602702         1e-09             1\n",
      "19 ON    b2     OK  kq7.l8b2        -0.132232   -0.00651689   -0.00252327   -0.00651689         1e-09             1\n",
      "20 ON    b1     OK  kq7.r8b1        -0.131529   -0.00587191   -0.00252378   -0.00587191         1e-09             1\n",
      "21 ON    b2     OK  kq7.r8b2       0.00252263    0.00573596      0.131468    0.00573596         1e-09             1\n",
      "22 ON    b1     OK  kq8.l8b1        -0.131577   -0.00460329   -0.00252469   -0.00460329         1e-09             1\n",
      "23 ON    b2     OK  kq8.l8b2       0.00252727    0.00600961      0.131713    0.00600961         1e-09             1\n",
      "24 ON    b1     OK  kq8.r8b1        0.0025251    0.00641693      0.131599    0.00641693         1e-09             1\n",
      "25 ON    b2     OK  kq8.r8b2        -0.131528   -0.00476569   -0.00252376   -0.00476569         1e-09             1\n",
      "26 ON    b1     OK  kq9.l8b1       0.00252359    0.00652348      0.131519    0.00652348         1e-09             1\n",
      "27 ON    b2     OK  kq9.l8b2        -0.131336   -0.00545147   -0.00252013   -0.00545147         1e-09             1\n",
      "28 ON    b1     OK  kq9.r8b1         -0.13158   -0.00663563   -0.00252474   -0.00663563         1e-09             1\n",
      "29 ON    b2     OK  kq9.r8b2       0.00252496    0.00682727      0.131591    0.00682727         1e-09             1\n",
      "30 ON    b1     OK  kq10.l8b1       -0.131746   -0.00579201   -0.00252789   -0.00579201         1e-09             1\n",
      "31 ON    b2     OK  kq10.l8b2      0.00252768    0.00717394      0.131735    0.00717394         1e-09             1\n",
      "32 ON    b1     OK  kq10.r8b1      0.00252923    0.00730942      0.131817    0.00730942         1e-09             1\n",
      "33 ON    b2     OK  kq10.r8b2       -0.131751   -0.00619816   -0.00252799   -0.00619816         1e-09             1\n",
      "34 ON    b1     OK  kqtl11.l8b1    -0.0853803   0.000174156     0.0853803   0.000174156         1e-09             1\n",
      "35 ON    b2     OK  kqtl11.l8b2    -0.0853803    0.00132482     0.0853803    0.00132482         1e-09             1\n",
      "36 ON    b1     OK  kqtl11.r8b1    -0.0853803   0.000263953     0.0853803   0.000263953         1e-09             1\n",
      "37 ON    b2     OK  kqtl11.r8b2    -0.0853803   0.000452885     0.0853803   0.000452885         1e-09             1\n",
      "38 ON    b1     OK  kqt12.l8b1     -0.0813119    0.00319404     0.0813119    0.00319404         1e-09             1\n",
      "39 ON    b2     OK  kqt12.l8b2     -0.0813119   -0.00239432     0.0813119   -0.00239432         1e-09             1\n",
      "40 ON    b1     OK  kqt12.r8b1     -0.0813119   -0.00329382     0.0813119   -0.00329382         1e-09             1\n",
      "41 ON    b2     OK  kqt12.r8b2     -0.0813119    0.00277058     0.0813119    0.00277058         1e-09             1\n",
      "42 ON    b1     OK  kqt13.l8b1     -0.0813119   0.000653243     0.0813119   0.000653243         1e-09             1\n",
      "43 ON    b2     OK  kqt13.l8b2     -0.0813119    0.00473915     0.0813119    0.00473915         1e-09             1\n",
      "44 ON    b1     OK  kqt13.r8b1     -0.0813119    -0.0010298     0.0813119    -0.0010298         1e-09             1\n",
      "45 ON    b2     OK  kqt13.r8b2     -0.0813119     0.0030247     0.0813119     0.0030247         1e-09             1\n"
     ]
    }
   ],
   "source": [
    "mtc.vary_status()"
   ]
  },
  {
   "cell_type": "code",
   "execution_count": null,
   "id": "f811fdd8",
   "metadata": {},
   "outputs": [],
   "source": []
  },
  {
   "cell_type": "code",
   "execution_count": null,
   "id": "d2c3ceae",
   "metadata": {},
   "outputs": [],
   "source": []
  },
  {
   "cell_type": "code",
   "execution_count": null,
   "id": "577a1edd",
   "metadata": {},
   "outputs": [],
   "source": []
  }
 ],
 "metadata": {
  "kernelspec": {
   "display_name": "Python 3 (ipykernel)",
   "language": "python",
   "name": "python3"
  },
  "language_info": {
   "codemirror_mode": {
    "name": "ipython",
    "version": 3
   },
   "file_extension": ".py",
   "mimetype": "text/x-python",
   "name": "python",
   "nbconvert_exporter": "python",
   "pygments_lexer": "ipython3",
   "version": "3.11.8"
  }
 },
 "nbformat": 4,
 "nbformat_minor": 5
}
